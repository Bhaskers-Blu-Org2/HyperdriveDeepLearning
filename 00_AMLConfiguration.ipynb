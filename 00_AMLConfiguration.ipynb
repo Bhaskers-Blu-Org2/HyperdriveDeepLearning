{
 "cells": [
  {
   "cell_type": "markdown",
   "metadata": {},
   "source": [
    "# Azure Machine Learning Configuration\n"
   ]
  },
  {
   "cell_type": "markdown",
   "metadata": {},
   "source": [
    "## Setup\n",
    "\n",
    "This notebook configures the notebooks in this tutorial to connect to an Azure Machine Learning (Azure ML) Workspace. You can use an existing workspace or create a new one."
   ]
  },
  {
   "cell_type": "code",
   "execution_count": 1,
   "metadata": {},
   "outputs": [],
   "source": [
    "import azureml.core\n",
    "from azureml.core import Workspace\n",
    "from dotenv import set_key, get_key, find_dotenv\n",
    "from pathlib import Path\n",
    "from utilities import get_auth"
   ]
  },
  {
   "cell_type": "markdown",
   "metadata": {},
   "source": [
    "## Azure ML SDK and other library installation\n",
    "\n",
    "If you have already completed the prerequisites and selected the correct Kernel for this notebook, the AML Python SDK is already installed. Let's check the AML SDK version."
   ]
  },
  {
   "cell_type": "code",
   "execution_count": 2,
   "metadata": {
    "tags": [
     "install"
    ]
   },
   "outputs": [
    {
     "name": "stdout",
     "output_type": "stream",
     "text": [
      "You are currently using version 1.0.41 of the Azure ML SDK\n"
     ]
    }
   ],
   "source": [
    "print(\"You are currently using version\", azureml.core.VERSION, \"of the Azure ML SDK\")"
   ]
  },
  {
   "cell_type": "markdown",
   "metadata": {},
   "source": [
    "## Configure your Azure ML workspace\n",
    "\n",
    "### Workspace parameters\n",
    "\n",
    "To use an AML Workspace, you will need  the following information:\n",
    "* Your subscription id\n",
    "* A resource group name\n",
    "* The region that will host your workspace\n",
    "* A name for your workspace\n",
    "\n",
    "Replace the values in the cell below with your information. If you would like to use service principal authentication as described [here](https://github.com/Azure/MachineLearningNotebooks/blob/master/how-to-use-azureml/manage-azureml-service/authentication-in-azureml/authentication-in-azure-ml.ipynb) make sure you provide the optional values as well."
   ]
  },
  {
   "cell_type": "code",
   "execution_count": 3,
   "metadata": {},
   "outputs": [],
   "source": [
    "subscription_id = 'YOUR_SUBSCRIPTION_ID'\n",
    "resource_group = 'YOUR_RESOURCE_GROUP'\n",
    "workspace_name = 'YOUR_WORKSPACE_NAME'\n",
    "workspace_region ='YOUR_WORKSPACE_REGION'\n",
    "\n",
    "\n",
    "tenant_id = 'YOUR_TENANT_ID' # Optional for service principal authentication\n",
    "username = 'YOUR_SERVICE_PRINCIPAL_APPLICATION_ID' # Optional for service principal authentication\n",
    "password = 'YOUR_SERVICE_PRINCIPAL_PASSWORD' # Optional for service principal authentication"
   ]
  },
  {
   "cell_type": "code",
   "execution_count": 4,
   "metadata": {},
   "outputs": [],
   "source": [
    "env_path = find_dotenv()\n",
    "if env_path == \"\":\n",
    "    Path(\".env\").touch()\n",
    "    env_path = find_dotenv()"
   ]
  },
  {
   "cell_type": "code",
   "execution_count": 5,
   "metadata": {},
   "outputs": [
    {
     "data": {
      "text/plain": [
       "(True, 'password', 'YOUR_SERVICE_PRINCIPAL_PASSWORD')"
      ]
     },
     "execution_count": 5,
     "metadata": {},
     "output_type": "execute_result"
    }
   ],
   "source": [
    "set_key(env_path, 'subscription_id', subscription_id) # Replace YOUR_AZURE_SUBSCRIPTION\n",
    "set_key(env_path, 'resource_group', resource_group)\n",
    "set_key(env_path, 'workspace_name', workspace_name)\n",
    "set_key(env_path, 'workspace_region', workspace_region)\n",
    "\n",
    "set_key(env_path, 'tenant_id', tenant_id)\n",
    "set_key(env_path, 'username', username)\n",
    "set_key(env_path, 'password', password)"
   ]
  },
  {
   "cell_type": "markdown",
   "metadata": {},
   "source": [
    "### Create the workspace\n",
    "\n",
    "**Note**: As with other Azure services, there are limits on certain resources (for example AmlCompute quota) associated with the Azure ML service. Please read [this article](https://docs.microsoft.com/en-us/azure/machine-learning/service/how-to-manage-quotas) on the default limits and how to request more quota.\n",
    "\n",
    "This cell will create an Azure ML workspace for you in a subscription provided you have the correct permissions.\n",
    "\n",
    "This will fail if:\n",
    "* You do not have permission to create a workspace in the resource group\n",
    "* You do not have permission to create a resource group if it's non-existing.\n",
    "* You are not a subscription owner or contributor and no Azure ML workspaces have ever been created in this subscription\n",
    "\n",
    "If workspace creation fails, please work with your IT admin to provide you with the appropriate permissions or to provision the required resources."
   ]
  },
  {
   "cell_type": "code",
   "execution_count": 6,
   "metadata": {
    "tags": [
     "create workspace"
    ]
   },
   "outputs": [
    {
     "name": "stderr",
     "output_type": "stream",
     "text": [
      "Warning: Falling back to use azure cli login credentials.\n",
      "If you run your code in unattended mode, i.e., where you can't give a user input, then we recommend to use ServicePrincipalAuthentication or MsiAuthentication.\n",
      "Please refer to aka.ms/aml-notebook-auth for different authentication mechanisms in azureml-sdk.\n"
     ]
    }
   ],
   "source": [
    "# Create the workspace using the specified parameters\n",
    "ws = Workspace.create(name = workspace_name,\n",
    "                      subscription_id=subscription_id,\n",
    "                      resource_group=resource_group, \n",
    "                      location=workspace_region,\n",
    "                      create_resource_group=True,\n",
    "                      auth=get_auth(env_path),\n",
    "                      exist_ok=True)\n",
    "\n",
    "# write the details of the workspace to a configuration file \n",
    "ws.write_config()"
   ]
  },
  {
   "cell_type": "markdown",
   "metadata": {},
   "source": [
    "Below we will reload the workspace just to make sure that everything is working."
   ]
  },
  {
   "cell_type": "code",
   "execution_count": 7,
   "metadata": {},
   "outputs": [
    {
     "data": {
      "text/plain": [
       "{'id': '/subscriptions/edf507a2-6235-46c5-b560-fd463ba2e771/resourceGroups/fboyluamlrg/providers/Microsoft.MachineLearningServices/workspaces/fboyluamlws',\n",
       " 'name': 'fboyluamlws',\n",
       " 'location': 'eastus',\n",
       " 'type': 'Microsoft.MachineLearningServices/workspaces',\n",
       " 'workspaceid': 'a29dc687-5001-4ee4-ac74-7c17b122f449',\n",
       " 'description': '',\n",
       " 'friendlyName': 'fboyluamlws',\n",
       " 'creationTime': '2019-06-11T18:46:04.6276033+00:00',\n",
       " 'keyVault': '/subscriptions/edf507a2-6235-46c5-b560-fd463ba2e771/resourcegroups/fboyluamlrg/providers/microsoft.keyvault/vaults/fboyluamkeyvaulte7296bd6',\n",
       " 'applicationInsights': '/subscriptions/edf507a2-6235-46c5-b560-fd463ba2e771/resourcegroups/fboyluamlrg/providers/microsoft.insights/components/fboyluaminsights01b4a05a',\n",
       " 'identityPrincipalId': 'ebf4ccd9-54a5-4e6a-98bd-0823ad9b45bf',\n",
       " 'identityTenantId': '72f988bf-86f1-41af-91ab-2d7cd011db47',\n",
       " 'identityType': 'SystemAssigned',\n",
       " 'storageAccount': '/subscriptions/edf507a2-6235-46c5-b560-fd463ba2e771/resourcegroups/fboyluamlrg/providers/microsoft.storage/storageaccounts/fboyluamstorage3fdfe5af9'}"
      ]
     },
     "execution_count": 7,
     "metadata": {},
     "output_type": "execute_result"
    }
   ],
   "source": [
    "# load workspace configuration\n",
    "ws = Workspace.from_config(auth=get_auth(env_path))\n",
    "ws.get_details()"
   ]
  },
  {
   "cell_type": "markdown",
   "metadata": {},
   "source": [
    "You can now move on to the next notebook to prepare the training script for Mask R-CNN model."
   ]
  }
 ],
 "metadata": {
  "authors": [
   {
    "name": "roastala"
   }
  ],
  "kernelspec": {
   "display_name": "Python [conda env:torchdetectaml]",
   "language": "python",
   "name": "conda-env-torchdetectaml-py"
  },
  "language_info": {
   "codemirror_mode": {
    "name": "ipython",
    "version": 3
   },
   "file_extension": ".py",
   "mimetype": "text/x-python",
   "name": "python",
   "nbconvert_exporter": "python",
   "pygments_lexer": "ipython3",
   "version": "3.7.3"
  }
 },
 "nbformat": 4,
 "nbformat_minor": 2
}
